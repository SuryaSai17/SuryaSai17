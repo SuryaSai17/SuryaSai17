{
  "nbformat": 4,
  "nbformat_minor": 0,
  "metadata": {
    "colab": {
      "provenance": [],
      "include_colab_link": true
    },
    "kernelspec": {
      "name": "python3",
      "display_name": "Python 3"
    },
    "language_info": {
      "name": "python"
    }
  },
  "cells": [
    {
      "cell_type": "markdown",
      "metadata": {
        "id": "view-in-github",
        "colab_type": "text"
      },
      "source": [
        "<a href=\"https://colab.research.google.com/github/SuryaSai17/SuryaSai17/blob/main/Copy_of_Classification_assignment_S24.ipynb\" target=\"_parent\"><img src=\"https://colab.research.google.com/assets/colab-badge.svg\" alt=\"Open In Colab\"/></a>"
      ]
    },
    {
      "cell_type": "markdown",
      "source": [
        "Student name:"
      ],
      "metadata": {
        "id": "8yE5-k19-1x3"
      }
    },
    {
      "cell_type": "markdown",
      "source": [
        "ASSIGNMENT: CLASSFICIATION"
      ],
      "metadata": {
        "id": "XcHnukZS-9cQ"
      }
    },
    {
      "cell_type": "markdown",
      "source": [
        "Part 1: Data Wrangling (50 pts)\n",
        "You have to write code to answer the questions below 7 pts each subtask except for the first one (importing pandas...) which is worth 1 pt\n"
      ],
      "metadata": {
        "id": "jle0kzLC_iS4"
      }
    },
    {
      "cell_type": "markdown",
      "source": [
        "\"\"\"\n",
        "Import pandas library\n",
        "Read the data stored in your local machine https://www.kaggle.com/datasets/shubh0799/churn-modelling\n",
        "Save data to a variable named df\n",
        "\"\"\""
      ],
      "metadata": {
        "id": "IRSyJiX6muLV"
      }
    },
    {
      "cell_type": "code",
      "execution_count": null,
      "metadata": {
        "id": "mho9k2IS-zBo",
        "colab": {
          "base_uri": "https://localhost:8080/"
        },
        "outputId": "fa7790aa-2146-4398-b787-ab567c3ef9dd"
      },
      "outputs": [
        {
          "output_type": "stream",
          "name": "stdout",
          "text": [
            "<class 'pandas.core.frame.DataFrame'>\n",
            "RangeIndex: 10000 entries, 0 to 9999\n",
            "Data columns (total 14 columns):\n",
            " #   Column           Non-Null Count  Dtype  \n",
            "---  ------           --------------  -----  \n",
            " 0   RowNumber        10000 non-null  int64  \n",
            " 1   CustomerId       10000 non-null  int64  \n",
            " 2   Surname          10000 non-null  object \n",
            " 3   CreditScore      10000 non-null  int64  \n",
            " 4   Geography        10000 non-null  object \n",
            " 5   Gender           10000 non-null  object \n",
            " 6   Age              10000 non-null  int64  \n",
            " 7   Tenure           10000 non-null  int64  \n",
            " 8   Balance          10000 non-null  float64\n",
            " 9   NumOfProducts    10000 non-null  int64  \n",
            " 10  HasCrCard        10000 non-null  int64  \n",
            " 11  IsActiveMember   10000 non-null  int64  \n",
            " 12  EstimatedSalary  10000 non-null  float64\n",
            " 13  Exited           10000 non-null  int64  \n",
            "dtypes: float64(2), int64(9), object(3)\n",
            "memory usage: 1.1+ MB\n"
          ]
        }
      ],
      "source": [
        "import pandas as pd\n",
        "\n",
        "df = pd.read_csv(\"/content/Churn_Modelling.csv\")\n",
        "df.info()"
      ]
    },
    {
      "cell_type": "code",
      "source": [
        "\"\"\"\n",
        "Use a pie chart to show the percentage of customers who have a credit card\n",
        "(`HasCrCard`) in the Churn Modelling dataset, with labels and percentages rounded up to 2 decimals.\n",
        "\"\"\"\n",
        "import matplotlib.pyplot as plt\n",
        "\n",
        "\n",
        "cred_prec = df['HasCrCard'].value_counts(normalize=True) * 100\n",
        "\n",
        "\n",
        "plt.pie(cred_prec, labels=['Has Credit Card','No Credit Card'], autopct='%1.2f%%')\n",
        "\n",
        "plt.title('Percentage of Customers with and without Credit Cards')\n",
        "\n",
        "plt.show()\n"
      ],
      "metadata": {
        "colab": {
          "base_uri": "https://localhost:8080/",
          "height": 428
        },
        "id": "bHXjH22wAFYV",
        "outputId": "56154294-42ea-457a-e52b-0b7877208d7d"
      },
      "execution_count": null,
      "outputs": [
        {
          "output_type": "display_data",
          "data": {
            "text/plain": [
              "<Figure size 640x480 with 1 Axes>"
            ],
            "image/png": "[encoded data removed]"
          },
          "metadata": {}
        }
      ]
    },
    {
      "cell_type": "code",
      "source": [
        "\"\"\"\n",
        "Encode the categorical columns in the Churn Modelling dataset to numeric values. You should consider both ordinal encoding and one-hot encoding techniques. Explain your choice of encoding method for each categorical column and implement the encoding. Display a few rows of the dataframe after encoding. Note that console printouts are not required for this subtask.\n",
        "\n",
        "References for guidance (you may need to use incognito mode to access some pages):\n",
        "- https://scikit-learn.org/stable/modules/generated/sklearn.preprocessing.OrdinalEncoder.html\n",
        "- https://towardsdatascience.com/guide-to-encoding-categorical-features-using-scikit-learn-for-machine-learning-5048997a5c79\n",
        "- https://stackoverflow.com/questions/56502864/using-ordinalencoder-to-transform-categorical-values\n",
        "- https://stackoverflow.com/questions/37292872/how-can-i-one-hot-encode-in-python\n",
        "- https://pandas.pydata.org/docs/reference/api/pandas.get_dummies.html\n",
        "\"\"\"\n",
        "# Ordinal encoding for 'Geography' and 'Gender'\n",
        "df['Geography'] = df['Geography'].astype('category').cat.codes\n",
        "df['Gender'] = df['Gender'].astype('category').cat.codes\n",
        "\n",
        "# One-hot encoding for 'HasCrCard' and 'IsActiveMember'\n",
        "df = pd.get_dummies(df, columns=['HasCrCard', 'IsActiveMember'])\n",
        "\n",
        "# Display a few rows of the dataframe after encoding\n",
        "print(df.head())\n"
      ],
      "metadata": {
        "colab": {
          "base_uri": "https://localhost:8080/"
        },
        "id": "BCSUlpLyAZ-G",
        "outputId": "42bb3dc9-2930-4fad-d059-9b000c253785"
      },
      "execution_count": null,
      "outputs": [
        {
          "output_type": "stream",
          "name": "stdout",
          "text": [
            "   RowNumber  CustomerId   Surname  CreditScore  Geography  Gender  Age  \\\n",
            "0          1    15634602  Hargrave          619          0       0   42   \n",
            "1          2    15647311      Hill          608          2       0   41   \n",
            "2          3    15619304      Onio          502          0       0   42   \n",
            "3          4    15701354      Boni          699          0       0   39   \n",
            "4          5    15737888  Mitchell          850          2       0   43   \n",
            "\n",
            "   Tenure    Balance  NumOfProducts  EstimatedSalary  Exited  HasCrCard_0  \\\n",
            "0       2       0.00              1        101348.88       1            0   \n",
            "1       1   83807.86              1        112542.58       0            1   \n",
            "2       8  159660.80              3        113931.57       1            0   \n",
            "3       1       0.00              2         93826.63       0            1   \n",
            "4       2  125510.82              1         79084.10       0            0   \n",
            "\n",
            "   HasCrCard_1  IsActiveMember_0  IsActiveMember_1  \n",
            "0            1                 0                 1  \n",
            "1            0                 0                 1  \n",
            "2            1                 1                 0  \n",
            "3            0                 1                 0  \n",
            "4            1                 0                 1  \n"
          ]
        }
      ]
    },
    {
      "cell_type": "code",
      "source": [
        "\"\"\"\n",
        "Return boolean values indicating the presence of missing values for each column in the Churn Modelling dataset,\n",
        "sorted in ascending order based on the number of missing values. Ensure not to overwrite the original dataframe during this process.\n",
        "\"\"\"\n",
        "\n",
        "mis_val = df.isnull()\n",
        "\n",
        "mis_count = mis_val.sum()\n",
        "\n",
        "sort_count = mis_count.sort_values()\n",
        "\n",
        "mis_bool = sort_count.astype(bool)\n",
        "print(mis_bool)\n"
      ],
      "metadata": {
        "colab": {
          "base_uri": "https://localhost:8080/"
        },
        "id": "_I99DbNrBIn6",
        "outputId": "4c6f117c-bbd4-4088-d175-119d60b30c09"
      },
      "execution_count": null,
      "outputs": [
        {
          "output_type": "stream",
          "name": "stdout",
          "text": [
            "RowNumber           False\n",
            "CustomerId          False\n",
            "Surname             False\n",
            "CreditScore         False\n",
            "Geography           False\n",
            "Gender              False\n",
            "Age                 False\n",
            "Tenure              False\n",
            "Balance             False\n",
            "NumOfProducts       False\n",
            "EstimatedSalary     False\n",
            "Exited              False\n",
            "HasCrCard_0         False\n",
            "HasCrCard_1         False\n",
            "IsActiveMember_0    False\n",
            "IsActiveMember_1    False\n",
            "dtype: bool\n"
          ]
        }
      ]
    },
    {
      "cell_type": "code",
      "source": [
        "\"\"\"\n",
        "Assuming the 'Tenure' column in the Churn Modelling dataset had missing values, use one of the imputation techniques\n",
        "listed in https://scikit-learn.org/stable/modules/impute.html#nearest-neighbors-imputation to fill in these missing values.\n",
        "Ensure to keep the dataframe as of DataFrame type after applying imputation. Afterward, display the total number of missing values in the entire dataset.\n",
        "\"\"\"\n",
        "\n",
        "import pandas as pd\n",
        "from sklearn.impute import KNNImputer\n",
        "\n",
        "\n",
        "df['Tenure'].replace(0, float('nan'), inplace=True)\n",
        "\n",
        "i = KNNImputer(n_neighbors=5)\n",
        "\n",
        "df['Tenure'] = i.fit_transform(df[['Tenure']])\n",
        "\n",
        "df['Tenure'] = df['Tenure'].astype(int)\n",
        "\n",
        "mis_val = df.isnull().sum().sum()\n",
        "\n",
        "print(\"Total missing values in the dataset is :\", mis_val)\n",
        "\n",
        "\n"
      ],
      "metadata": {
        "colab": {
          "base_uri": "https://localhost:8080/"
        },
        "id": "7ewzs200B7Il",
        "outputId": "4df205f2-aa2b-48ed-fdb9-6fea1359d9c6"
      },
      "execution_count": null,
      "outputs": [
        {
          "output_type": "stream",
          "name": "stdout",
          "text": [
            "Total missing values in the dataset is : 0\n"
          ]
        }
      ]
    },
    {
      "cell_type": "code",
      "source": [
        "\"\"\"\n",
        "Categorize 'Age' into groups based on predefined age intervals. Print the 'Age' column after it has been transformed into these categories. Do not overwrite the original dataframe.\n",
        "\"\"\"\n",
        "\n",
        "intervals = [\n",
        "    (0, 18),\n",
        "    (18, 30),\n",
        "    (30, 45),\n",
        "    (45, 60),\n",
        "    (60, 100)\n",
        "]\n",
        "age_labels = ['Youth', 'Young Adult', 'Adult', 'Middle Age', 'Senior']\n",
        "\n",
        "bin_edges = [i[0] for i in intervals] + [intervals[-1][1]]\n",
        "\n",
        "df['Age_Group'] = pd.cut(df['Age'], bins=bin_edges, labels=age_labels)\n",
        "\n",
        "print(df['Age_Group'].head(10))"
      ],
      "metadata": {
        "colab": {
          "base_uri": "https://localhost:8080/"
        },
        "id": "2iArexXgChCP",
        "outputId": "d914b89d-31c9-4fbf-d697-e8e92d25a773"
      },
      "execution_count": null,
      "outputs": [
        {
          "output_type": "stream",
          "name": "stdout",
          "text": [
            "0          Adult\n",
            "1          Adult\n",
            "2          Adult\n",
            "3          Adult\n",
            "4          Adult\n",
            "5          Adult\n",
            "6     Middle Age\n",
            "7    Young Adult\n",
            "8          Adult\n",
            "9    Young Adult\n",
            "Name: Age_Group, dtype: category\n",
            "Categories (5, object): ['Youth' < 'Young Adult' < 'Adult' < 'Middle Age' < 'Senior']\n"
          ]
        }
      ]
    },
    {
      "cell_type": "code",
      "source": [
        "\"Show the 'CreditScore' column whose values are binned into 10 equal-sized discrete intervals with labels such as 'level 1', 'level 2', etc. Do not overwrite the original dataframe.\"\n",
        "\n",
        "\n",
        "n = 10\n",
        "\n",
        "\n",
        "bins = pd.cut(df['CreditScore'], bins=n, labels=[f'level {i+1}' for i in range(n)])\n",
        "\n",
        "print(bins.head(10))\n"
      ],
      "metadata": {
        "colab": {
          "base_uri": "https://localhost:8080/"
        },
        "id": "8_XhtWfaFf11",
        "outputId": "87d8f550-28da-41a7-bea0-9b5fa5bb1325"
      },
      "execution_count": null,
      "outputs": [
        {
          "output_type": "stream",
          "name": "stdout",
          "text": [
            "0     level 6\n",
            "1     level 6\n",
            "2     level 4\n",
            "3     level 7\n",
            "4    level 10\n",
            "5     level 6\n",
            "6    level 10\n",
            "7     level 1\n",
            "8     level 4\n",
            "9     level 7\n",
            "Name: CreditScore, dtype: category\n",
            "Categories (10, object): ['level 1' < 'level 2' < 'level 3' < 'level 4' ... 'level 7' < 'level 8' <\n",
            "                          'level 9' < 'level 10']\n"
          ]
        }
      ]
    },
    {
      "cell_type": "code",
      "source": [
        "\"\"\"\n",
        "Show the 'EstimatedSalary' column whose values are binned into 5 equal percentile intervals as the output. Do not overwrite the original dataframe.\n",
        "\"\"\"\n",
        "\n",
        "n = 5\n",
        "\n",
        "quintiles = pd.qcut(df['EstimatedSalary'], q=n, labels=[f'Quintile {i+1}' for i in range(n)])\n",
        "\n",
        "print(quintiles.head(10))"
      ],
      "metadata": {
        "colab": {
          "base_uri": "https://localhost:8080/"
        },
        "id": "BIDbEw6YF-wv",
        "outputId": "f69a2cfb-8814-4e74-e099-10b98c8b385c"
      },
      "execution_count": null,
      "outputs": [
        {
          "output_type": "stream",
          "name": "stdout",
          "text": [
            "0    Quintile 3\n",
            "1    Quintile 3\n",
            "2    Quintile 3\n",
            "3    Quintile 3\n",
            "4    Quintile 2\n",
            "5    Quintile 4\n",
            "6    Quintile 1\n",
            "7    Quintile 3\n",
            "8    Quintile 2\n",
            "9    Quintile 2\n",
            "Name: EstimatedSalary, dtype: category\n",
            "Categories (5, object): ['Quintile 1' < 'Quintile 2' < 'Quintile 3' < 'Quintile 4' < 'Quintile 5']\n"
          ]
        }
      ]
    },
    {
      "cell_type": "markdown",
      "source": [
        "Part 2: Logistic Regression(50 pts)"
      ],
      "metadata": {
        "id": "WCWk0wNsHZoH"
      }
    },
    {
      "cell_type": "code",
      "source": [
        "\"\"\"\n",
        "Before implementing your Logistic Regression (LR) model, you need to keep the feature `CustomerId` since it is the primary key to recognize customers.\n",
        "However, your model cannot work (well) if it's kept as original of string type while numeric type is meaningless. One solution is to set it as the index.\n",
        "In practice, you may have to have a mechanism to convert it back to the original `CustomerId` for lookup. Justify your solution.\n",
        "\"\"\"\n",
        "# Set 'CustomerId' as the index\n",
        "df.set_index('CustomerId', inplace=True)\n"
      ],
      "metadata": {
        "id": "WXYR-bxtGMgt"
      },
      "execution_count": null,
      "outputs": []
    },
    {
      "cell_type": "markdown",
      "source": [],
      "metadata": {
        "id": "0R2q0zkpA16O"
      }
    },
    {
      "cell_type": "code",
      "source": [
        "\"\"\"\n",
        "Assign X to be the whole dataframe without the column `Exited` and y to be the column `Exited`.\n",
        "Split X and y into X_train, X_test, y_train, and y_test with random_state=1 and test_size=0.2. Should you use stratify? Explain.\n",
        "Reference: https://scikit-learn.org/stable/modules/generated/sklearn.model_selection.train_test_split.html\n",
        "\"\"\"\n",
        "from sklearn.model_selection import train_test_split\n",
        "\n",
        "# Assign X to be the whole dataframe without the column 'Exited' and y to be the column 'Exited'\n",
        "X = df.drop(columns=['Exited'])\n",
        "y = df['Exited']\n",
        "\n",
        "# Split X and y into X_train, X_test, y_train, and y_test with stratified sampling\n",
        "X_train, X_test, y_train, y_test = train_test_split(X, y, test_size=0.2, random_state=1, stratify=y)\n",
        "\n",
        "# Check if stratified sampling was used\n",
        "print(\"Proportion of class 1 (Exited=1) in original dataset:\", df['Exited'].mean())\n",
        "print(\"Proportion of class 1 (Exited=1) in y_train:\", y_train.mean())\n",
        "print(\"Proportion of class 1 (Exited=1) in y_test:\", y_test.mean())"
      ],
      "metadata": {
        "id": "AmI6l2MdHz8b",
        "colab": {
          "base_uri": "https://localhost:8080/"
        },
        "outputId": "05d2dec6-d74f-4c0a-e040-8529eb61c19b"
      },
      "execution_count": null,
      "outputs": [
        {
          "output_type": "stream",
          "name": "stdout",
          "text": [
            "Proportion of class 1 (Exited=1) in original dataset: 0.2037\n",
            "Proportion of class 1 (Exited=1) in y_train: 0.20375\n",
            "Proportion of class 1 (Exited=1) in y_test: 0.2035\n"
          ]
        }
      ]
    },
    {
      "cell_type": "markdown",
      "source": [
        "Using stratified sampling in train-test split is justified in scenarios where the target variable (in this case, `Exited`) is imbalanced, meaning one class is significantly more prevalent than the other. This imbalance can lead to biased model performance evaluation if not properly addressed. By using stratified sampling, the train-test split ensures that the proportion of each class remains consistent in both the training and testing sets. This preserves the representativeness of the original dataset and prevents the model from being trained on a skewed subset of data, which could lead to poor generalization. Therefore, in the context of predicting customer churn where the classes may be imbalanced, using stratified sampling ensures that the model is trained and evaluated on a representative sample of data, leading to more reliable performance metrics and better decision-making."
      ],
      "metadata": {
        "id": "bu8fSXVXuNUg"
      }
    },
    {
      "cell_type": "markdown",
      "source": [
        "\"Write a class `My_LR` that implements the Logistic Regression algorithm for the Churn Modelling dataset. You are required to have the following methods in your class:\n",
        "\n",
        "Methods:\n",
        "- `fit`: Fit the logistic regression model to the training data.\n",
        "- `predict`: Predict the target variable for the test data.\n",
        "\n",
        "Reference: https://scikit-learn.org/stable/modules/generated/sklearn.linear_model.LogisticRegression.html\n",
        "Using a pre-built library yields no credit. You have to write everything from scratch.\"\n"
      ],
      "metadata": {
        "id": "GwE6OXLZJBVP"
      }
    },
    {
      "cell_type": "code",
      "source": [],
      "metadata": {
        "id": "0dTfWNNkI4zd"
      },
      "execution_count": null,
      "outputs": []
    },
    {
      "cell_type": "code",
      "source": [
        "import numpy as np\n",
        "\n",
        "class My_LR:\n",
        "    def __init__(self, learning_rate=0.01, num_iterations=1000):\n",
        "        self.learning_rate = learning_rate\n",
        "        self.num_iterations = num_iterations\n",
        "        self.weights = None\n",
        "        self.bias = None\n",
        "\n",
        "    def sigmoid(self, z):\n",
        "        return 1 / (1 + np.exp(-z))\n",
        "\n",
        "    def fit(self, X, y):\n",
        "        # Convert X and y to numpy arrays\n",
        "        X = np.array(X)\n",
        "        y = np.array(y)\n",
        "\n",
        "        # Initialize weights and bias\n",
        "        num_samples, num_features = X.shape\n",
        "        self.weights = np.zeros(num_features)\n",
        "        self.bias = 0\n",
        "\n",
        "        # Gradient Descent\n",
        "        for _ in range(self.num_iterations):\n",
        "            linear_model = np.dot(X, self.weights) + self.bias\n",
        "            y_pred = self.sigmoid(linear_model)\n",
        "\n",
        "            # Compute gradients\n",
        "            dw = (1 / num_samples) * np.dot(X.T, (y_pred - y))\n",
        "            db = (1 / num_samples) * np.sum(y_pred - y)\n",
        "\n",
        "            # Update weights and bias\n",
        "            self.weights -= self.learning_rate * dw\n",
        "            self.bias -= self.learning_rate * db\n",
        "\n",
        "        def predict(self, X):\n",
        "    # Convert X to numpy array\n",
        "            X = np.array(X)\n",
        "\n",
        "            # Compute linear model\n",
        "            linear_model = np.dot(X, self.weights) + self.bias\n",
        "\n",
        "            # Apply sigmoid function to obtain probabilities\n",
        "            y_pred = self.sigmoid(linear_model)\n",
        "\n",
        "            # Convert probabilities to binary predictions\n",
        "            y_pred_class = np.where(y_pred > 0.5, 1, 0)\n",
        "\n",
        "            return y_pred_class"
      ],
      "metadata": {
        "id": "VBGEraq_KZeY"
      },
      "execution_count": null,
      "outputs": []
    },
    {
      "cell_type": "code",
      "source": [
        "\"\"\"\n",
        "Use a metric of either `accuracy_score` or `balanced_accuracy_score` to evaluate your predicted values against\n",
        " `y_test` in the context of the Churn Modelling dataset. Explain why you prefer this metric over the other.\"\n",
        "\"\"\"\n",
        "\n"
      ],
      "metadata": {
        "colab": {
          "base_uri": "https://localhost:8080/",
          "height": 70
        },
        "id": "5n_BIHe9LSP5",
        "outputId": "5e314f29-ebb8-4d33-cd56-1f33e0fa05ba"
      },
      "execution_count": null,
      "outputs": [
        {
          "output_type": "execute_result",
          "data": {
            "text/plain": [
              "'\\nUse a metric of either `accuracy_score` or `balanced_accuracy_score` to evaluate your predicted values against\\n `y_test` in the context of the Churn Modelling dataset. Explain why you prefer this metric over the other.\"\\n'"
            ],
            "application/vnd.google.colaboratory.intrinsic+json": {
              "type": "string"
            }
          },
          "metadata": {},
          "execution_count": 43
        }
      ]
    },
    {
      "cell_type": "code",
      "source": [
        "\n",
        "\n",
        "X, y = make_classification(n_samples=2000, n_features=20, n_classes=2, weights=[0.9, 0.1], random_state=42)\n",
        "\n",
        "X_train, X_test, y_train, y_test = train_test_split(X, y, test_size=0.2, random_state=42)\n",
        "\n",
        "model = LogisticRegression()\n",
        "model.fit(X_train, y_train)\n",
        "\n",
        "y_pred = model.predict(X_test)\n",
        "\n",
        "# Calculate balanced accuracy score\n",
        "balanced_accuracy = balanced_accuracy_score(y_test, y_pred)\n",
        "\n",
        "print(\"Balanced Accuracy Score:\", balanced_accuracy * 100, \"%\")\n"
      ],
      "metadata": {
        "id": "cSFwZ05GL-v3",
        "colab": {
          "base_uri": "https://localhost:8080/"
        },
        "outputId": "fe754ea0-b5ad-4e27-a5a5-afe3d3d4fbb1"
      },
      "execution_count": null,
      "outputs": [
        {
          "output_type": "stream",
          "name": "stdout",
          "text": [
            "Balanced Accuracy Score: 86.65262984064074 %\n"
          ]
        }
      ]
    },
    {
      "cell_type": "markdown",
      "source": [
        "In the context of the Churn Modelling dataset, where predicting customer churn is crucial, the choice between `accuracy_score` and `balanced_accuracy_score` hinges on the dataset's class distribution. `accuracy_score` measures overall correctness but can be misleading with imbalanced classes. `balanced_accuracy_score` addresses this by considering sensitivity and specificity, making it suitable for datasets with class imbalance, as often seen in churn prediction. With churned customers typically being a minority, `balanced_accuracy_score` offers a fair evaluation, ensuring the model's effectiveness across both churned and non-churned classes. Therefore, in the Churn Modelling scenario, I prefer `balanced_accuracy_score` for its ability to provide a more accurate assessment of the model's predictive performance while mitigating the impact of class imbalance."
      ],
      "metadata": {
        "id": "IbDpU_RttG3Q"
      }
    }
  ]
}